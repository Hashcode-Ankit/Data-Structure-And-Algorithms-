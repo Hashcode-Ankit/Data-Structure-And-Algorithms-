{
  "nbformat": 4,
  "nbformat_minor": 0,
  "metadata": {
    "colab": {
      "name": "PySpark_DataFrame.ipynb",
      "provenance": [],
      "authorship_tag": "ABX9TyNX5DYtj2XL6VET5BHTKI94",
      "include_colab_link": true
    },
    "kernelspec": {
      "name": "python3",
      "display_name": "Python 3"
    },
    "language_info": {
      "name": "python"
    }
  },
  "cells": [
    {
      "cell_type": "markdown",
      "metadata": {
        "id": "view-in-github",
        "colab_type": "text"
      },
      "source": [
        "<a href=\"https://colab.research.google.com/github/AnkitKumar2698/Data-Structure-And-Algorithms-/blob/master/PySpark_DataFrame.ipynb\" target=\"_parent\"><img src=\"https://colab.research.google.com/assets/colab-badge.svg\" alt=\"Open In Colab\"/></a>"
      ]
    },
    {
      "cell_type": "code",
      "execution_count": null,
      "metadata": {
        "colab": {
          "base_uri": "https://localhost:8080/"
        },
        "id": "CftlNbFJX9Sj",
        "outputId": "10898890-351a-4304-f507-cacd52bbd3ef"
      },
      "outputs": [
        {
          "output_type": "stream",
          "name": "stdout",
          "text": [
            "Collecting pyspark\n",
            "  Downloading pyspark-3.2.0.tar.gz (281.3 MB)\n",
            "\u001b[K     |████████████████████████████████| 281.3 MB 34 kB/s \n",
            "\u001b[?25hCollecting py4j==0.10.9.2\n",
            "  Downloading py4j-0.10.9.2-py2.py3-none-any.whl (198 kB)\n",
            "\u001b[K     |████████████████████████████████| 198 kB 29.5 MB/s \n",
            "\u001b[?25hBuilding wheels for collected packages: pyspark\n",
            "  Building wheel for pyspark (setup.py) ... \u001b[?25l\u001b[?25hdone\n",
            "  Created wheel for pyspark: filename=pyspark-3.2.0-py2.py3-none-any.whl size=281805912 sha256=bb79af5601526ab7adf53d00b16785d84729b19dabf75011d9909ad1c22f11f4\n",
            "  Stored in directory: /root/.cache/pip/wheels/0b/de/d2/9be5d59d7331c6c2a7c1b6d1a4f463ce107332b1ecd4e80718\n",
            "Successfully built pyspark\n",
            "Installing collected packages: py4j, pyspark\n",
            "Successfully installed py4j-0.10.9.2 pyspark-3.2.0\n"
          ]
        }
      ],
      "source": [
        "!pip install pyspark"
      ]
    },
    {
      "cell_type": "code",
      "source": [
        "import pyspark"
      ],
      "metadata": {
        "id": "PbaNhFQ_ZYfa"
      },
      "execution_count": null,
      "outputs": []
    },
    {
      "cell_type": "code",
      "source": [
        "from pyspark.sql import SparkSession"
      ],
      "metadata": {
        "id": "BeKCm4WHZtDA"
      },
      "execution_count": null,
      "outputs": []
    },
    {
      "cell_type": "code",
      "source": [
        "spark=SparkSession.builder.appName('Dataframe').getOrCreate()\n",
        "spark"
      ],
      "metadata": {
        "colab": {
          "base_uri": "https://localhost:8080/",
          "height": 222
        },
        "id": "vKyB7EYPZ2Y3",
        "outputId": "b062c03f-e812-4dc5-9a69-801eaf48b739"
      },
      "execution_count": null,
      "outputs": [
        {
          "output_type": "execute_result",
          "data": {
            "text/html": [
              "\n",
              "            <div>\n",
              "                <p><b>SparkSession - in-memory</b></p>\n",
              "                \n",
              "        <div>\n",
              "            <p><b>SparkContext</b></p>\n",
              "\n",
              "            <p><a href=\"http://f9f67d4fef7c:4040\">Spark UI</a></p>\n",
              "\n",
              "            <dl>\n",
              "              <dt>Version</dt>\n",
              "                <dd><code>v3.2.0</code></dd>\n",
              "              <dt>Master</dt>\n",
              "                <dd><code>local[*]</code></dd>\n",
              "              <dt>AppName</dt>\n",
              "                <dd><code>Dataframe</code></dd>\n",
              "            </dl>\n",
              "        </div>\n",
              "        \n",
              "            </div>\n",
              "        "
            ],
            "text/plain": [
              "<pyspark.sql.session.SparkSession at 0x7f3857efb250>"
            ]
          },
          "metadata": {},
          "execution_count": 4
        }
      ]
    },
    {
      "cell_type": "code",
      "source": [
        "df_pySpark=spark.read.option('header','true').csv('test.csv')"
      ],
      "metadata": {
        "id": "v9Ic1fZuaKOc"
      },
      "execution_count": null,
      "outputs": []
    },
    {
      "cell_type": "code",
      "source": [
        "df_pySpark.printSchema()"
      ],
      "metadata": {
        "id": "Tg1SM1X6bAeG",
        "colab": {
          "base_uri": "https://localhost:8080/"
        },
        "outputId": "cea0f18a-a10d-4673-a1fd-3bd49a2c526a"
      },
      "execution_count": null,
      "outputs": [
        {
          "output_type": "stream",
          "name": "stdout",
          "text": [
            "root\n",
            " |-- Name: string (nullable = true)\n",
            " |-- Age: string (nullable = true)\n",
            " |-- salery: string (nullable = true)\n",
            "\n"
          ]
        }
      ]
    },
    {
      "cell_type": "code",
      "source": [
        "type(df_pySpark)"
      ],
      "metadata": {
        "id": "W0sJ2SKUbhdo",
        "colab": {
          "base_uri": "https://localhost:8080/"
        },
        "outputId": "29f878ad-7288-425e-8950-b21daf8c8f7a"
      },
      "execution_count": null,
      "outputs": [
        {
          "output_type": "execute_result",
          "data": {
            "text/plain": [
              "pyspark.sql.dataframe.DataFrame"
            ]
          },
          "metadata": {},
          "execution_count": 8
        }
      ]
    },
    {
      "cell_type": "code",
      "source": [
        "df_pySpark.columns"
      ],
      "metadata": {
        "id": "DeZ-PztDcFNX",
        "colab": {
          "base_uri": "https://localhost:8080/"
        },
        "outputId": "a5bc96c6-a6f6-4b92-e121-dbb6ea65a1d8"
      },
      "execution_count": null,
      "outputs": [
        {
          "output_type": "execute_result",
          "data": {
            "text/plain": [
              "['Name', 'Age', 'salery']"
            ]
          },
          "metadata": {},
          "execution_count": 9
        }
      ]
    },
    {
      "cell_type": "code",
      "source": [
        "  df_pySpark.head(2)"
      ],
      "metadata": {
        "id": "rR-3N1v2cjC_",
        "colab": {
          "base_uri": "https://localhost:8080/"
        },
        "outputId": "b8299e24-38e8-44eb-f698-ee86588e0805"
      },
      "execution_count": null,
      "outputs": [
        {
          "output_type": "execute_result",
          "data": {
            "text/plain": [
              "[Row(Name='Bhavuk', Age='21', salery='50000'),\n",
              " Row(Name='Jatin', Age='20', salery=None)]"
            ]
          },
          "metadata": {},
          "execution_count": 10
        }
      ]
    },
    {
      "cell_type": "code",
      "source": [
        "df_pySpark.show()"
      ],
      "metadata": {
        "id": "kzkgD78Fcnxl",
        "colab": {
          "base_uri": "https://localhost:8080/"
        },
        "outputId": "535b43c8-1aa6-4143-a762-59390f5e388c"
      },
      "execution_count": null,
      "outputs": [
        {
          "output_type": "stream",
          "name": "stdout",
          "text": [
            "+------+----+------+\n",
            "|  Name| Age|salery|\n",
            "+------+----+------+\n",
            "|Bhavuk|  21| 50000|\n",
            "| Jatin|  20|  null|\n",
            "|  Aman|null|100000|\n",
            "|Sparsh|  30| 50000|\n",
            "| Udyan|null| 60000|\n",
            "|Gaurav|  22|  null|\n",
            "+------+----+------+\n",
            "\n"
          ]
        }
      ]
    },
    {
      "cell_type": "code",
      "source": [
        "df_pySpark.select('Name').show()"
      ],
      "metadata": {
        "colab": {
          "base_uri": "https://localhost:8080/"
        },
        "id": "QeVX4c8nc1FI",
        "outputId": "54857636-93c2-4cf4-81f9-01449be9926b"
      },
      "execution_count": null,
      "outputs": [
        {
          "output_type": "stream",
          "name": "stdout",
          "text": [
            "+------+\n",
            "|  Name|\n",
            "+------+\n",
            "|Bhavuk|\n",
            "| Jatin|\n",
            "|  Aman|\n",
            "|Sparsh|\n",
            "| Udyan|\n",
            "|Gaurav|\n",
            "+------+\n",
            "\n"
          ]
        }
      ]
    },
    {
      "cell_type": "code",
      "source": [
        "type(df_pySpark.select('Name'))"
      ],
      "metadata": {
        "id": "GyGupOLMdFkH",
        "colab": {
          "base_uri": "https://localhost:8080/"
        },
        "outputId": "d12baac7-c384-44eb-d83a-b86396e3392a"
      },
      "execution_count": null,
      "outputs": [
        {
          "output_type": "execute_result",
          "data": {
            "text/plain": [
              "pyspark.sql.dataframe.DataFrame"
            ]
          },
          "metadata": {},
          "execution_count": 13
        }
      ]
    },
    {
      "cell_type": "code",
      "source": [
        "df_pySpark.dtypes"
      ],
      "metadata": {
        "id": "kZtz2XVpdPUf",
        "colab": {
          "base_uri": "https://localhost:8080/"
        },
        "outputId": "0ba8ded9-3f84-40de-8cec-6d94a5f36570"
      },
      "execution_count": null,
      "outputs": [
        {
          "output_type": "execute_result",
          "data": {
            "text/plain": [
              "[('Name', 'string'), ('Age', 'string'), ('salery', 'string')]"
            ]
          },
          "metadata": {},
          "execution_count": 14
        }
      ]
    },
    {
      "cell_type": "code",
      "source": [
        "df_pySpark.describe().show()"
      ],
      "metadata": {
        "id": "NTCueMPoh9fF",
        "colab": {
          "base_uri": "https://localhost:8080/"
        },
        "outputId": "09127557-8f4e-46f2-bf3c-3ec1611aba39"
      },
      "execution_count": null,
      "outputs": [
        {
          "output_type": "stream",
          "name": "stdout",
          "text": [
            "+-------+-----+-----------------+------------------+\n",
            "|summary| Name|              Age|            salery|\n",
            "+-------+-----+-----------------+------------------+\n",
            "|  count|    6|                4|                 4|\n",
            "|   mean| null|            23.25|           65000.0|\n",
            "| stddev| null|4.573474244670748|23804.761428476166|\n",
            "|    min| Aman|               20|            100000|\n",
            "|    max|Udyan|               30|             60000|\n",
            "+-------+-----+-----------------+------------------+\n",
            "\n"
          ]
        }
      ]
    },
    {
      "cell_type": "code",
      "source": [
        "df_pySpark=df_pySpark.withColumn('Salery After 2 years',df_pySpark['salery']+10000)"
      ],
      "metadata": {
        "id": "r08uiljVimLI"
      },
      "execution_count": null,
      "outputs": []
    },
    {
      "cell_type": "code",
      "source": [
        "df_pySpark.show()"
      ],
      "metadata": {
        "id": "eJTIxJEej_VT",
        "colab": {
          "base_uri": "https://localhost:8080/"
        },
        "outputId": "90001a41-cfe7-4100-ce62-ecb97b1de046"
      },
      "execution_count": null,
      "outputs": [
        {
          "output_type": "stream",
          "name": "stdout",
          "text": [
            "+------+----+------+--------------------+\n",
            "|  Name| Age|salery|Salery After 2 years|\n",
            "+------+----+------+--------------------+\n",
            "|Bhavuk|  21| 50000|             60000.0|\n",
            "| Jatin|  20|  null|                null|\n",
            "|  Aman|null|100000|            110000.0|\n",
            "|Sparsh|  30| 50000|             60000.0|\n",
            "| Udyan|null| 60000|             70000.0|\n",
            "|Gaurav|  22|  null|                null|\n",
            "+------+----+------+--------------------+\n",
            "\n"
          ]
        }
      ]
    },
    {
      "cell_type": "code",
      "source": [
        "df_pySpark=df_pySpark.drop('Salery After 2 years')"
      ],
      "metadata": {
        "id": "6GOiiXa0kBsf"
      },
      "execution_count": null,
      "outputs": []
    },
    {
      "cell_type": "code",
      "source": [
        "df_pySpark.show()"
      ],
      "metadata": {
        "id": "W9iAsac6kMPQ",
        "colab": {
          "base_uri": "https://localhost:8080/"
        },
        "outputId": "b9eaec93-9237-4ee6-8705-939741d4e4cd"
      },
      "execution_count": null,
      "outputs": [
        {
          "output_type": "stream",
          "name": "stdout",
          "text": [
            "+------+----+------+\n",
            "|  Name| Age|salery|\n",
            "+------+----+------+\n",
            "|Bhavuk|  21| 50000|\n",
            "| Jatin|  20|  null|\n",
            "|  Aman|null|100000|\n",
            "|Sparsh|  30| 50000|\n",
            "| Udyan|null| 60000|\n",
            "|Gaurav|  22|  null|\n",
            "+------+----+------+\n",
            "\n"
          ]
        }
      ]
    },
    {
      "cell_type": "code",
      "source": [
        "df_pySpark.withColumnRenamed('Name','Name Change').show()"
      ],
      "metadata": {
        "id": "Hm7xuaiJkOCM",
        "colab": {
          "base_uri": "https://localhost:8080/"
        },
        "outputId": "e9068f54-8e81-421f-9c3f-50b7ad66e8d0"
      },
      "execution_count": null,
      "outputs": [
        {
          "output_type": "stream",
          "name": "stdout",
          "text": [
            "+-----------+----+------+\n",
            "|Name Change| Age|salery|\n",
            "+-----------+----+------+\n",
            "|     Bhavuk|  21| 50000|\n",
            "|      Jatin|  20|  null|\n",
            "|       Aman|null|100000|\n",
            "|     Sparsh|  30| 50000|\n",
            "|      Udyan|null| 60000|\n",
            "|     Gaurav|  22|  null|\n",
            "+-----------+----+------+\n",
            "\n"
          ]
        }
      ]
    },
    {
      "cell_type": "code",
      "source": [
        ""
      ],
      "metadata": {
        "id": "YkFKb0kksnCM"
      },
      "execution_count": null,
      "outputs": []
    },
    {
      "cell_type": "code",
      "source": [
        "df_pySpark.show()"
      ],
      "metadata": {
        "id": "DRgJ4u3es0XU",
        "colab": {
          "base_uri": "https://localhost:8080/"
        },
        "outputId": "953f78b1-6958-4320-de6d-3b8221716e07"
      },
      "execution_count": null,
      "outputs": [
        {
          "output_type": "stream",
          "name": "stdout",
          "text": [
            "+------+----+------+\n",
            "|  Name| Age|salery|\n",
            "+------+----+------+\n",
            "|Bhavuk|  21| 50000|\n",
            "| Jatin|  20|  null|\n",
            "|  Aman|null|100000|\n",
            "|Sparsh|  30| 50000|\n",
            "| Udyan|null| 60000|\n",
            "|Gaurav|  22|  null|\n",
            "+------+----+------+\n",
            "\n"
          ]
        }
      ]
    },
    {
      "cell_type": "code",
      "source": [
        "df_pySpark.na.drop().show()"
      ],
      "metadata": {
        "id": "QBVVaaAXu_JX",
        "colab": {
          "base_uri": "https://localhost:8080/"
        },
        "outputId": "8f4930ad-d212-4bae-e493-4db3efe95546"
      },
      "execution_count": null,
      "outputs": [
        {
          "output_type": "stream",
          "name": "stdout",
          "text": [
            "+------+---+------+\n",
            "|  Name|Age|salery|\n",
            "+------+---+------+\n",
            "|Bhavuk| 21| 50000|\n",
            "|Sparsh| 30| 50000|\n",
            "+------+---+------+\n",
            "\n"
          ]
        }
      ]
    },
    {
      "cell_type": "code",
      "source": [
        "df_pySpark.na.drop(how=\"any\",subset=['age']).show()"
      ],
      "metadata": {
        "id": "KgcIB5gEvRjA",
        "colab": {
          "base_uri": "https://localhost:8080/"
        },
        "outputId": "3459c6ac-956a-48ff-a1ad-d5a8608c374b"
      },
      "execution_count": null,
      "outputs": [
        {
          "output_type": "stream",
          "name": "stdout",
          "text": [
            "+------+---+------+\n",
            "|  Name|Age|salery|\n",
            "+------+---+------+\n",
            "|Bhavuk| 21| 50000|\n",
            "| Jatin| 20|  null|\n",
            "|Sparsh| 30| 50000|\n",
            "|Gaurav| 22|  null|\n",
            "+------+---+------+\n",
            "\n"
          ]
        }
      ]
    },
    {
      "cell_type": "code",
      "source": [
        "df_pySpark.na.fill('missing','age').show()"
      ],
      "metadata": {
        "id": "QZxpdcNixVpP",
        "colab": {
          "base_uri": "https://localhost:8080/"
        },
        "outputId": "2a087635-a88d-41ec-c9a4-c044b91122a6"
      },
      "execution_count": null,
      "outputs": [
        {
          "output_type": "stream",
          "name": "stdout",
          "text": [
            "+------+-------+------+\n",
            "|  Name|    Age|salery|\n",
            "+------+-------+------+\n",
            "|Bhavuk|     21| 50000|\n",
            "| Jatin|     20|  null|\n",
            "|  Aman|missing|100000|\n",
            "|Sparsh|     30| 50000|\n",
            "| Udyan|missing| 60000|\n",
            "|Gaurav|     22|  null|\n",
            "+------+-------+------+\n",
            "\n"
          ]
        }
      ]
    },
    {
      "cell_type": "code",
      "source": [
        ""
      ],
      "metadata": {
        "id": "bfOHR4aayZDa"
      },
      "execution_count": null,
      "outputs": []
    }
  ]
}