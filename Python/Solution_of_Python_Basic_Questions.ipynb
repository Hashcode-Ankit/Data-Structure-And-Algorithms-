{
  "nbformat": 4,
  "nbformat_minor": 0,
  "metadata": {
    "colab": {
      "name": "Solution of Python Basic Questions.ipynb",
      "provenance": [],
      "authorship_tag": "ABX9TyM6BZFeUg8cx1U48I15t/sK",
      "include_colab_link": true
    },
    "kernelspec": {
      "name": "python3",
      "display_name": "Python 3"
    },
    "language_info": {
      "name": "python"
    }
  },
  "cells": [
    {
      "cell_type": "markdown",
      "metadata": {
        "id": "view-in-github",
        "colab_type": "text"
      },
      "source": [
        "<a href=\"https://colab.research.google.com/github/AnkitKumar2698/Data-Structure-And-Algorithms-/blob/master/Python/Solution_of_Python_Basic_Questions.ipynb\" target=\"_parent\"><img src=\"https://colab.research.google.com/assets/colab-badge.svg\" alt=\"Open In Colab\"/></a>"
      ]
    },
    {
      "cell_type": "markdown",
      "source": [
        "Q1). Write a program to reverse an integer in Python"
      ],
      "metadata": {
        "id": "oA2r6jT8avJi"
      }
    },
    {
      "cell_type": "code",
      "source": [
        "n = int(input(\"please give a number : \"))\n",
        "print(\"before reverse your numeber is : %d\" %n)\n",
        "reverse = 0\n",
        "while n!=0:\n",
        "    reverse = reverse*10 + n%10       \n",
        "    n = (n//10)\n",
        "print(\"After reverse : %d\" %reverse) "
      ],
      "metadata": {
        "id": "u1wxg3oGaxhA",
        "colab": {
          "base_uri": "https://localhost:8080/"
        },
        "outputId": "efda7cdb-6ad7-48cc-8186-0bd72ec86418"
      },
      "execution_count": null,
      "outputs": [
        {
          "output_type": "stream",
          "name": "stdout",
          "text": [
            "please give a number : 548\n",
            "before reverse your numeber is : 548\n",
            "After reverse : 845\n"
          ]
        }
      ]
    },
    {
      "cell_type": "markdown",
      "source": [
        "Q2). Write a program in Python to print the Fibonacci series using iterative method."
      ],
      "metadata": {
        "id": "ZXM8s-HpazBH"
      }
    },
    {
      "cell_type": "code",
      "source": [
        "first,second=0,1\n",
        "n = int(input(\"please give a number for fibonacci series : \"))\n",
        "print(\"fibonacci series are : \")\n",
        "for i in range(0,n):\n",
        "    if i<=1:\n",
        "        result=i\n",
        "    else:\n",
        "      result = first + second;\n",
        "      first = second;\n",
        "      second = result;\n",
        "    print(result)"
      ],
      "metadata": {
        "id": "qqCKOMqxazxK",
        "colab": {
          "base_uri": "https://localhost:8080/"
        },
        "outputId": "2a38fc12-4c78-4da0-f243-ebdcf871432f"
      },
      "execution_count": null,
      "outputs": [
        {
          "output_type": "stream",
          "name": "stdout",
          "text": [
            "please give a number for fibonacci series : 10\n",
            "fibonacci series are : \n",
            "0\n",
            "1\n",
            "1\n",
            "2\n",
            "3\n",
            "5\n",
            "8\n",
            "13\n",
            "21\n",
            "34\n"
          ]
        }
      ]
    },
    {
      "cell_type": "markdown",
      "source": [
        "Q3). Write a program in Python to swap two numbers without using third variable?\n"
      ],
      "metadata": {
        "id": "99oQKwbWa0Nu"
      }
    },
    {
      "cell_type": "code",
      "source": [
        "a = int(input(\"please give first number a: \"))\n",
        "b = int(input(\"please give second number b: \"))\n",
        "a=a-b\n",
        "b=a+b\n",
        "a=b-a\n",
        "print(\"After swapping\")\n",
        "print(\"value of a is : \", a);\n",
        "print(\"value of b is : \", b);"
      ],
      "metadata": {
        "id": "fjuSCzz6a0to",
        "colab": {
          "base_uri": "https://localhost:8080/"
        },
        "outputId": "5ecce22a-a771-46d9-cf53-108be2e196f5"
      },
      "execution_count": null,
      "outputs": [
        {
          "output_type": "stream",
          "name": "stdout",
          "text": [
            "please give first number a: 5\n",
            "please give second number b: 6\n",
            "After swapping\n",
            "value of a is :  6\n",
            "value of b is :  5\n"
          ]
        }
      ]
    },
    {
      "cell_type": "markdown",
      "source": [
        "Q4). Python program to calculate LCM of given two numbers."
      ],
      "metadata": {
        "id": "evFOQ8ARa1Vy"
      }
    },
    {
      "cell_type": "code",
      "source": [
        "num1 = int(input(\"Enter first number: \"))  \n",
        "num2 = int(input(\"Enter second number: \"))  \n",
        "if num1 > num2:  \n",
        "    greater = num1  \n",
        "else:  \n",
        "    greater = num2  \n",
        "while(True):  \n",
        "    if((greater % num1 == 0) and (greater % num2 == 0)):  \n",
        "        lcm = greater  \n",
        "        break  \n",
        "    greater += 1  \n",
        "print(\"LCM of\",num1,\"and\",num2,\"=\",greater)"
      ],
      "metadata": {
        "id": "0Qa6-bhia1_j",
        "colab": {
          "base_uri": "https://localhost:8080/"
        },
        "outputId": "6fe76d7a-1317-48fa-ed50-2abcaeb9cdf8"
      },
      "execution_count": null,
      "outputs": [
        {
          "output_type": "stream",
          "name": "stdout",
          "text": [
            "Enter first number: 5\n",
            "Enter second number: 5\n",
            "LCM of 5 and 5 = 5\n"
          ]
        }
      ]
    },
    {
      "cell_type": "markdown",
      "source": [
        "Q5). Python Program to find GCD or HCF of two numbers."
      ],
      "metadata": {
        "id": "RSB8Io1Ka2yC"
      }
    },
    {
      "cell_type": "code",
      "source": [
        "num1 = int(input(\"Enter first number: \"))  \n",
        "num2 = int(input(\"Enter second number: \"))  \n",
        "#checking for smaller number\n",
        "if num1 > num2:\n",
        "    minimum = num2\n",
        "else:\n",
        "    minimum = num1\n",
        "#finding highest factor of the numbers\n",
        "for i in range(1, minimum+1):\n",
        "    if((num1 % i == 0) and (num2 % i == 0)):\n",
        "        hcf = i \n",
        "print(\"hcf/gcd of\",num1,\"and\",num2,\"=\",hcf)"
      ],
      "metadata": {
        "id": "ssrxRyfka3fu",
        "colab": {
          "base_uri": "https://localhost:8080/"
        },
        "outputId": "75b6ff89-de33-43ad-fad8-acc6c9e20004"
      },
      "execution_count": null,
      "outputs": [
        {
          "output_type": "stream",
          "name": "stdout",
          "text": [
            "Enter first number: 5\n",
            "Enter second number: 5\n",
            "hcf/gcd of 5 and 5 = 5\n"
          ]
        }
      ]
    },
    {
      "cell_type": "markdown",
      "source": [
        "Q6). Python program to concatenate two strings using join() method."
      ],
      "metadata": {
        "id": "B20-Y0sNa3_R"
      }
    },
    {
      "cell_type": "code",
      "source": [
        "#taking inputs from the user\n",
        "str1 = input('Enter first string: ')\n",
        "str2 = input('Enter second string: ')\n",
        "#printing the output after using join() method\n",
        "print(\"String after concatenation :\",\"\".join([str1, str2]))"
      ],
      "metadata": {
        "id": "ppv2_xdLa4ZT",
        "colab": {
          "base_uri": "https://localhost:8080/"
        },
        "outputId": "d86ba00f-2a4b-4bb3-c019-dbfa2e860468"
      },
      "execution_count": null,
      "outputs": [
        {
          "output_type": "stream",
          "name": "stdout",
          "text": [
            "Enter first string: ankit\n",
            "Enter second string: sharma\n",
            "String after concatenation : ankitsharma\n"
          ]
        }
      ]
    },
    {
      "cell_type": "markdown",
      "source": [
        "Q7). Python Program to Convert Decimal Number into Binary.\n"
      ],
      "metadata": {
        "id": "m6TiMMw7a58L"
      }
    },
    {
      "cell_type": "code",
      "source": [
        "nums = int(input(\"Enter first number: \"))  \n",
        "print(bin(nums).replace(\"0b\",''))"
      ],
      "metadata": {
        "id": "CN9iFiHIa6iL",
        "colab": {
          "base_uri": "https://localhost:8080/"
        },
        "outputId": "7ba98b07-be34-45a3-f4ee-72743ed6f979"
      },
      "execution_count": null,
      "outputs": [
        {
          "output_type": "stream",
          "name": "stdout",
          "text": [
            "Enter first number: 10\n",
            "1010\n"
          ]
        }
      ]
    },
    {
      "cell_type": "code",
      "source": [
        "def bin(n):\n",
        "  str1=\"\"\n",
        "  while(n>0):\n",
        "    rem=n%2\n",
        "    str1+=str(rem)\n",
        "    n=n//2\n",
        "  return(str1)\n",
        "print(bin(7))\n"
      ],
      "metadata": {
        "colab": {
          "base_uri": "https://localhost:8080/"
        },
        "id": "Q-wGDcyT5dB8",
        "outputId": "e69b22b0-8a61-47fa-e91d-c2f03065c992"
      },
      "execution_count": 39,
      "outputs": [
        {
          "output_type": "stream",
          "name": "stdout",
          "text": [
            "111\n"
          ]
        }
      ]
    },
    {
      "cell_type": "markdown",
      "source": [
        "Q8.)Write a lambda function to find power of a number ."
      ],
      "metadata": {
        "id": "GGvTCH_La7JJ"
      }
    },
    {
      "cell_type": "code",
      "source": [
        "x = lambda a,p: pow(a,p)\n",
        "\n",
        "nums = int(input(\"Enter Number of which power to be calculated : \")) \n",
        "p =int(input(\"Power to be calculated  : \" ))\n",
        "\n",
        "print(x(nums,p))"
      ],
      "metadata": {
        "id": "A8gQnCNDa7o1",
        "colab": {
          "base_uri": "https://localhost:8080/"
        },
        "outputId": "59ed7f02-c6a1-46a7-df6a-347d7ab5179e"
      },
      "execution_count": null,
      "outputs": [
        {
          "output_type": "stream",
          "name": "stdout",
          "text": [
            "Enter Number of which power to be calculated : 5\n",
            "Power to be calculated  : 2\n",
            "25\n"
          ]
        }
      ]
    },
    {
      "cell_type": "markdown",
      "source": [
        "Find Duplicate Characters in a string."
      ],
      "metadata": {
        "id": "dd7vEGhP8fCp"
      }
    },
    {
      "cell_type": "code",
      "source": [
        "## initializing string\n",
        "string = \"pepcoding\"\n",
        "## initializing a dictionary\n",
        "duplicates = {}\n",
        "for char in string:\n",
        "   ## checking whether the char is already present in dictionary or not\n",
        "   if char in duplicates:\n",
        "      ## increasing count if present\n",
        "      duplicates[char] += 1\n",
        "   else:\n",
        "      ## initializing count to 1 if not present\n",
        "      duplicates[char] = 1\n",
        "for key, value in duplicates.items():\n",
        "   if value > 1:\n",
        "      print(key, end = \" \")\n",
        "print()\n"
      ],
      "metadata": {
        "colab": {
          "base_uri": "https://localhost:8080/"
        },
        "id": "CJaSxNsQ7oWH",
        "outputId": "456bc765-e719-4c58-d178-dd8a5a0c5faa"
      },
      "execution_count": null,
      "outputs": [
        {
          "output_type": "stream",
          "name": "stdout",
          "text": [
            "p \n"
          ]
        }
      ]
    },
    {
      "cell_type": "code",
      "source": [
        "num = input(\"Enter a number\")\n",
        "num = num[: :-1]\n",
        "print(num)\n"
      ],
      "metadata": {
        "id": "EEsTWWc59ZiA",
        "colab": {
          "base_uri": "https://localhost:8080/"
        },
        "outputId": "99a044ef-05d3-4ccf-f7f3-7d63ce4bff8b"
      },
      "execution_count": 10,
      "outputs": [
        {
          "output_type": "stream",
          "name": "stdout",
          "text": [
            "Enter a number2543524352\n",
            "2534253452\n"
          ]
        }
      ]
    },
    {
      "cell_type": "markdown",
      "source": [
        "  "
      ],
      "metadata": {
        "id": "ZTAfNd0We9_K"
      }
    },
    {
      "cell_type": "code",
      "source": [
        "\n",
        "n=int(input()) \n",
        "s=0\n",
        "while n:\n",
        "   s=s*10+n%10\n",
        "   n=n//10\n",
        "print(s)\n"
      ],
      "metadata": {
        "colab": {
          "base_uri": "https://localhost:8080/"
        },
        "id": "D2N7wxD0epU1",
        "outputId": "232ee159-d78e-4734-f0b9-3fbf57849de7"
      },
      "execution_count": 7,
      "outputs": [
        {
          "output_type": "stream",
          "name": "stdout",
          "text": [
            "68976\n",
            "67986\n"
          ]
        }
      ]
    },
    {
      "cell_type": "code",
      "source": [
        "n=input()\n",
        "print(str(n)[:-1])\n"
      ],
      "metadata": {
        "colab": {
          "base_uri": "https://localhost:8080/"
        },
        "id": "NHyrHG2Te6KH",
        "outputId": "e514cb21-6a39-4bcc-b2c3-09d91f2749f4"
      },
      "execution_count": 9,
      "outputs": [
        {
          "output_type": "stream",
          "name": "stdout",
          "text": [
            "2543543\n",
            "254354\n"
          ]
        }
      ]
    },
    {
      "cell_type": "code",
      "source": [
        "terms=int(input(\"Enter the terms you want in Fab SERIES: \"))\n",
        "n1 = 0 \n",
        "n2 = 1\n",
        "count = 0 \n",
        "\n",
        "if terms==1:\n",
        "    print(n1)\n",
        "else:\n",
        "    while count<terms:\n",
        "        print(n1)\n",
        "        nterm = n1 +n2\n",
        "        n1 = n2\n",
        "        n2 = nterm\n",
        "        count +=1\n"
      ],
      "metadata": {
        "colab": {
          "base_uri": "https://localhost:8080/"
        },
        "id": "_LyoyMWUfO7o",
        "outputId": "82750109-c465-44f3-9987-e1318b31c892"
      },
      "execution_count": 1,
      "outputs": [
        {
          "output_type": "stream",
          "name": "stdout",
          "text": [
            "Enter the terms you want in Fab SERIES: 10\n",
            "0\n",
            "1\n",
            "1\n",
            "2\n",
            "3\n",
            "5\n",
            "8\n",
            "13\n",
            "21\n",
            "34\n"
          ]
        }
      ]
    },
    {
      "cell_type": "code",
      "source": [
        "a=0\n",
        "b=1\n",
        "n=int(input(\"enter the num\"))\n",
        "while(n!=0):\n",
        "  print(a)\n",
        "  c=a+b\n",
        "  a=b\n",
        "  b=c\n",
        "  n-=1\n"
      ],
      "metadata": {
        "colab": {
          "base_uri": "https://localhost:8080/"
        },
        "id": "N29srO6BleaK",
        "outputId": "e951efa0-10ac-4665-cee5-4ec27d7a4c6f"
      },
      "execution_count": 1,
      "outputs": [
        {
          "output_type": "stream",
          "name": "stdout",
          "text": [
            "enter the num10\n",
            "0\n",
            "1\n",
            "1\n",
            "2\n",
            "3\n",
            "5\n",
            "8\n",
            "13\n",
            "21\n",
            "34\n"
          ]
        }
      ]
    },
    {
      "cell_type": "code",
      "source": [
        "a=int(input())\n",
        "d=0\n",
        "b=1\n",
        "i=1\n",
        "while(i<=a) :\n",
        " c=a+b\n",
        " print(c)\n",
        " d=b\n",
        " b=c\n",
        " i=i+1\n"
      ],
      "metadata": {
        "colab": {
          "base_uri": "https://localhost:8080/"
        },
        "id": "Grp9JtzXoZF6",
        "outputId": "5a44873a-4b52-4d16-b489-51ea51717b2e"
      },
      "execution_count": 1,
      "outputs": [
        {
          "output_type": "stream",
          "name": "stdout",
          "text": [
            "10\n",
            "11\n",
            "21\n",
            "31\n",
            "41\n",
            "51\n",
            "61\n",
            "71\n",
            "81\n",
            "91\n",
            "101\n"
          ]
        }
      ]
    },
    {
      "cell_type": "code",
      "source": [
        "a = 2\n",
        "b = 3\n",
        "a,b = b,a\n",
        "print(a)\n",
        "print(b)\n"
      ],
      "metadata": {
        "colab": {
          "base_uri": "https://localhost:8080/"
        },
        "id": "-ab05XoNpFcO",
        "outputId": "176beeca-de34-4cd7-cff5-690a75d2d8b3"
      },
      "execution_count": 3,
      "outputs": [
        {
          "output_type": "stream",
          "name": "stdout",
          "text": [
            "3\n",
            "2\n"
          ]
        }
      ]
    },
    {
      "cell_type": "code",
      "source": [
        "def rev(n):\n",
        "  temp=n\n",
        "  length=0\n",
        "  while(temp>0): \n",
        "    temp//=10\n",
        "    length+=1\n",
        "  sum=0\n",
        "  j=0\n",
        "  iter=1\n",
        "  while(n>0):  #finding reverse\n",
        "    last_digit=n%10\n",
        "    sum=sum+last_digit*(10**(length-iter))   \n",
        "    n=n//10\n",
        "    iter+=1\n",
        "  return(sum)\n",
        "print(rev(2324524321))\n"
      ],
      "metadata": {
        "colab": {
          "base_uri": "https://localhost:8080/"
        },
        "id": "uaEdi49ypdQd",
        "outputId": "954dce57-8498-4bd8-da1e-cf7de6925b68"
      },
      "execution_count": 5,
      "outputs": [
        {
          "output_type": "stream",
          "name": "stdout",
          "text": [
            "1234254232\n"
          ]
        }
      ]
    },
    {
      "cell_type": "code",
      "source": [
        "x = int(input())\n",
        "y = int(input())\n",
        "x, y = y, x\n",
        "print(y,x)\n"
      ],
      "metadata": {
        "colab": {
          "base_uri": "https://localhost:8080/"
        },
        "id": "kMuxwaoHqKEp",
        "outputId": "72df09a7-1cbc-42da-d447-320a8d6e92e1"
      },
      "execution_count": 7,
      "outputs": [
        {
          "output_type": "stream",
          "name": "stdout",
          "text": [
            "4\n",
            "5\n",
            "4 5\n"
          ]
        }
      ]
    },
    {
      "cell_type": "code",
      "source": [
        "a = int(input())\n",
        "b = int(input())\n",
        "\n",
        "if a > b:\n",
        "  max = a\n",
        "else:\n",
        "  max = b\n",
        "\n",
        "while(1):\n",
        "    if((max % a == 0) and (max % b == 0)):\n",
        "      lcm = max\n",
        "      break\n",
        "    max += 1\n",
        "\n",
        "print(lcm)\n"
      ],
      "metadata": {
        "colab": {
          "base_uri": "https://localhost:8080/"
        },
        "id": "vZ54kQ40qXqv",
        "outputId": "d3930f18-4061-4767-8f8a-02d1188bcab0"
      },
      "execution_count": 9,
      "outputs": [
        {
          "output_type": "stream",
          "name": "stdout",
          "text": [
            "30\n",
            "50\n",
            "150\n"
          ]
        }
      ]
    },
    {
      "cell_type": "code",
      "source": [
        "def lcm(a,b):\n",
        "  i=a  #pointing to any one of the number\n",
        "  while(True):\n",
        "    # =if(i%a==0 and i%b==0):\n",
        "     return(i)\n",
        "print(lcm(4,3))\n"
      ],
      "metadata": {
        "colab": {
          "base_uri": "https://localhost:8080/"
        },
        "id": "M1AmqDRptOoT",
        "outputId": "0ea246c7-c96c-4b0b-e91e-52e1efda88e5"
      },
      "execution_count": 13,
      "outputs": [
        {
          "output_type": "stream",
          "name": "stdout",
          "text": [
            "4\n"
          ]
        }
      ]
    },
    {
      "cell_type": "code",
      "source": [
        "a=50\n",
        "b=10\n",
        "oa=a\n",
        "ob=b\n",
        "while(a%b!=0):\n",
        "  r=a%b\n",
        "  a=b\n",
        "  b=r\n",
        "gcd=b\n",
        "lcm=oa*ob//gcd\n",
        "print(lcm)\n"
      ],
      "metadata": {
        "colab": {
          "base_uri": "https://localhost:8080/"
        },
        "id": "yBVohHFEtg4I",
        "outputId": "84ac271f-2c6d-4130-d61f-c5bd710e1abb"
      },
      "execution_count": 16,
      "outputs": [
        {
          "output_type": "stream",
          "name": "stdout",
          "text": [
            "50\n"
          ]
        }
      ]
    },
    {
      "cell_type": "code",
      "source": [
        "n1 = int(input())\n",
        "n2 = int(input())\n",
        "dvd = n1 # dividend\n",
        "div = n2 # divisor\n",
        "#gcd\n",
        "while(dvd % div !=0):\n",
        "  rem = dvd% div\n",
        "\n",
        "  dvd = div # new dividend\n",
        "  div = rem #new divisor\n",
        "gcd = div\n",
        "print(\"GCD of n1 and n2:\", gcd)\n",
        "\n",
        "# lcm \n",
        "lcm = int((n1*n2)/gcd)\n",
        "print(\"lcm of n1 and n2:\",lcm)\n"
      ],
      "metadata": {
        "colab": {
          "base_uri": "https://localhost:8080/"
        },
        "id": "BMVTMm1AuWir",
        "outputId": "4225747a-ee77-4717-92f8-1e15f30e0b04"
      },
      "execution_count": 17,
      "outputs": [
        {
          "output_type": "stream",
          "name": "stdout",
          "text": [
            "20\n",
            "50\n",
            "GCD of n1 and n2: 10\n",
            "lcm of n1 and n2: 100\n"
          ]
        }
      ]
    },
    {
      "cell_type": "code",
      "source": [
        "a=3\n",
        "b=4\n",
        "if(a>b):\n",
        "  m = a\n",
        "else:\n",
        "  m = b\n",
        "while(True):\n",
        "  if(m%a==0 and m%b==0):\n",
        "    print(m)\n",
        "    break\n",
        "  m += 1\n"
      ],
      "metadata": {
        "colab": {
          "base_uri": "https://localhost:8080/"
        },
        "id": "l2GVS3Jjug6C",
        "outputId": "92cb6a43-d9d1-46b9-bb6f-f3c0909ed3a0"
      },
      "execution_count": 18,
      "outputs": [
        {
          "output_type": "stream",
          "name": "stdout",
          "text": [
            "12\n"
          ]
        }
      ]
    },
    {
      "cell_type": "code",
      "source": [
        "def hcf(a,b):\n",
        "  if a>b:\n",
        "    greater = a\n",
        "  else:\n",
        "    greater = b\n",
        "  while (True):\n",
        "    if(greater%a ==0 and greater%b==0):\n",
        "      lcm = greater \n",
        "      break\n",
        "    else:\n",
        "      greater+=1\n",
        "  hcf = a*b //lcm \n",
        "  return hcf\n",
        "\n",
        "print(hcf(12,10))\n"
      ],
      "metadata": {
        "colab": {
          "base_uri": "https://localhost:8080/"
        },
        "id": "u3p0tllnv0co",
        "outputId": "439a43a3-5643-4487-8c23-4b3aeaaa7d50"
      },
      "execution_count": 21,
      "outputs": [
        {
          "output_type": "stream",
          "name": "stdout",
          "text": [
            "2\n"
          ]
        }
      ]
    },
    {
      "cell_type": "code",
      "source": [
        "print(\"ankit\".join([\"ankit\", \"str2\"]))"
      ],
      "metadata": {
        "colab": {
          "base_uri": "https://localhost:8080/"
        },
        "id": "MZYtM_cux202",
        "outputId": "16159df8-36e0-4e85-cd04-ec65a02fd082"
      },
      "execution_count": 33,
      "outputs": [
        {
          "output_type": "stream",
          "name": "stdout",
          "text": [
            "ankitankitstr2\n"
          ]
        }
      ]
    },
    {
      "cell_type": "code",
      "source": [
        "s1 = \"abc\"\n",
        "s2 = \"def\"\n",
        "print(\"\".join([s1,s2]))\n"
      ],
      "metadata": {
        "colab": {
          "base_uri": "https://localhost:8080/"
        },
        "id": "gN3YvwJAzE8t",
        "outputId": "0674eb48-cf76-447f-d43b-f1a748e5fc07"
      },
      "execution_count": 30,
      "outputs": [
        {
          "output_type": "stream",
          "name": "stdout",
          "text": [
            "abcdef\n"
          ]
        }
      ]
    },
    {
      "cell_type": "code",
      "source": [
        "a=\"hello\"\n",
        "b=\"world\"\n",
        "c=\"\".join([a,b])\n",
        "print(c)\n"
      ],
      "metadata": {
        "colab": {
          "base_uri": "https://localhost:8080/"
        },
        "id": "1HvBx0IYzk_u",
        "outputId": "953ee9c3-753e-458d-9cd3-4619e77c18d6"
      },
      "execution_count": 35,
      "outputs": [
        {
          "output_type": "stream",
          "name": "stdout",
          "text": [
            "helloworld\n"
          ]
        }
      ]
    },
    {
      "cell_type": "code",
      "source": [
        "powerOfNum = lambda num,pow : num**pow\n",
        "powerOfNum(2,4)\n"
      ],
      "metadata": {
        "colab": {
          "base_uri": "https://localhost:8080/"
        },
        "id": "myTxilRg1oWN",
        "outputId": "a77d39c2-30e9-4e2a-c8df-d94dfe6efa59"
      },
      "execution_count": 41,
      "outputs": [
        {
          "output_type": "execute_result",
          "data": {
            "text/plain": [
              "16"
            ]
          },
          "metadata": {},
          "execution_count": 41
        }
      ]
    },
    {
      "cell_type": "code",
      "source": [
        ""
      ],
      "metadata": {
        "id": "E5Y2CAKz9JI7"
      },
      "execution_count": null,
      "outputs": []
    }
  ]
}